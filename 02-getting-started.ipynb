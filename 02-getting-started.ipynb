{
 "cells": [
  {
   "cell_type": "markdown",
   "id": "2d474a3e-274d-4bf8-95f3-2c18179877d9",
   "metadata": {},
   "source": [
    "---\n",
    "title: Getting Started\n",
    "date: 2023-11-30 \n",
    "authors:\n",
    "  - name: Sébastien Boisgérault\n",
    "    email: Sebastien.Boisgerault@minesparis.psl.eu\n",
    "    url: https://github.com/boisgera\n",
    "    affiliations:\n",
    "      - institution: Mines Paris - PSL University\n",
    "        department: Institut des Transformation Numériques (ITN)\n",
    "github: boisgera\n",
    "license: CC-BY-4.0\n",
    "open_access: true\n",
    "---"
   ]
  },
  {
   "cell_type": "markdown",
   "id": "99eb7623-348a-4873-9200-614c9be5bdb6",
   "metadata": {},
   "source": [
    "![tldraw](images/hello-tldraw.png)    "
   ]
  },
  {
   "cell_type": "markdown",
   "id": "f2cbb2bd-92e6-4c23-95b5-7996e1850533",
   "metadata": {},
   "source": [
    "# A Simple Document"
   ]
  },
  {
   "cell_type": "markdown",
   "id": "c95958ae-0e8e-40b3-9a1a-963745eda44e",
   "metadata": {},
   "source": [
    "```{exercise} Create a \"Hello tldraw!\" document\n",
    "\n",
    " 1. Download the folder of this project on your computer. \n",
    "  \n",
    " 2. Create an tldraw document that contains the text \"Hello tldraw!\" and save it on your computer.\n",
    " \n",
    " 3. Rename your tldraw document `hello-tldraw.tldr` and move it into the `docs` subfolder of the project.\n",
    "```"
   ]
  },
  {
   "cell_type": "markdown",
   "id": "f663cb6a-c804-4438-a6bb-7132a7c86332",
   "metadata": {},
   "source": [
    "Tldraw files are (utf-8-encoded) text files and therefore can be easily inspected. \n",
    "\n",
    "```{exercise} What's the format of tldraw documents?\n",
    "\n",
    "  1. Print the content of your \"Hello tldraw!\" document into this notebook.\n",
    "\n",
    "  2. The tldraw document format is a dialect of a general-purpose structured data format. \n",
    "  \n",
    "     Which one is it? (JSON, XML, CSV? something else?)\n",
    "\n",
    "```\n"
   ]
  },
  {
   "cell_type": "code",
   "execution_count": 1,
   "id": "dac1682f-32a3-4bfd-a543-c7b5eb2da97e",
   "metadata": {},
   "outputs": [
    {
     "name": "stdout",
     "output_type": "stream",
     "text": [
      "{\"tldrawFileFormatVersion\":1,\"schema\":{\"schemaVersion\":1,\"storeVersion\":4,\"recordVersions\":{\"asset\":{\"version\":1,\"subTypeKey\":\"type\",\"subTypeVersions\":{\"image\":3,\"video\":3,\"bookmark\":1}},\"camera\":{\"version\":1},\"document\":{\"version\":2},\"instance\":{\"version\":24},\"instance_page_state\":{\"version\":5},\"page\":{\"version\":1},\"shape\":{\"version\":3,\"subTypeKey\":\"type\",\"subTypeVersions\":{\"group\":0,\"text\":1,\"bookmark\":2,\"draw\":1,\"geo\":8,\"note\":5,\"line\":1,\"frame\":0,\"arrow\":3,\"highlight\":0,\"embed\":4,\"image\":3,\"video\":2}},\"instance_presence\":{\"version\":5},\"pointer\":{\"version\":1}}},\"records\":[{\"gridSize\":10,\"name\":\"\",\"meta\":{},\"id\":\"document:document\",\"typeName\":\"document\"},{\"id\":\"pointer:pointer\",\"typeName\":\"pointer\",\"x\":60.74409484863281,\"y\":45.314483642578125,\"lastActivityTimestamp\":1707310199255,\"meta\":{}},{\"meta\":{},\"id\":\"page:page\",\"name\":\"Page 1\",\"index\":\"a1\",\"typeName\":\"page\"},{\"x\":0,\"y\":0,\"z\":1,\"meta\":{},\"id\":\"camera:page:page\",\"typeName\":\"camera\"},{\"editingShapeId\":null,\"croppingShapeId\":null,\"selectedShapeIds\":[],\"hoveredShapeId\":null,\"erasingShapeIds\":[],\"hintingShapeIds\":[],\"focusedGroupId\":null,\"meta\":{},\"id\":\"instance_page_state:page:page\",\"pageId\":\"page:page\",\"typeName\":\"instance_page_state\"},{\"followingUserId\":null,\"opacityForNextShape\":1,\"stylesForNextShape\":{},\"brush\":null,\"scribbles\":[],\"cursor\":{\"type\":\"default\",\"rotation\":0},\"isFocusMode\":false,\"exportBackground\":true,\"isDebugMode\":false,\"isToolLocked\":false,\"screenBounds\":{\"x\":0,\"y\":0,\"w\":1306,\"h\":721},\"insets\":[false,false,false,false],\"zoomBrush\":null,\"isGridMode\":false,\"isPenMode\":false,\"chatMessage\":\"\",\"isChatting\":false,\"highlightedUserIds\":[],\"canMoveCamera\":true,\"isFocused\":true,\"devicePixelRatio\":2,\"isCoarsePointer\":false,\"isHoveringCanvas\":false,\"openMenus\":[\"main menu\",\"main menu menu file\"],\"isChangingStyle\":false,\"isReadonly\":false,\"meta\":{},\"duplicateProps\":null,\"id\":\"instance:instance\",\"currentPageId\":\"page:page\",\"typeName\":\"instance\"},{\"x\":21.489408181206386,\"y\":349.688232421875,\"rotation\":0,\"isLocked\":false,\"opacity\":1,\"meta\":{},\"id\":\"shape:yyayaLlh6qsgzoE8bDaer\",\"type\":\"text\",\"props\":{\"color\":\"black\",\"size\":\"m\",\"w\":640.257568359375,\"text\":\"hello tldraw !\",\"font\":\"draw\",\"align\":\"middle\",\"autoSize\":false,\"scale\":1.921837322160598},\"parentId\":\"page:page\",\"index\":\"a2\",\"typeName\":\"shape\"}]}\n"
     ]
    }
   ],
   "source": [
    "#Question 1\n",
    "with open('docs/hello-tldraw.tldr', 'r') as file:\n",
    "    tldraw_content = file.read()\n",
    "\n",
    "print(tldraw_content)"
   ]
  },
  {
   "cell_type": "markdown",
   "id": "89168a7e-8432-4462-aee1-a2296701cd72",
   "metadata": {},
   "source": [
    "Question 2 : \n",
    "le type d'un document tldraw est le JSON-formatted "
   ]
  },
  {
   "cell_type": "markdown",
   "id": "7af9bbc9-cbab-4510-823a-eb707e0140ed",
   "metadata": {},
   "source": [
    "\n",
    "```{exercise} Load the document\n",
    ":label: load\n",
    "\n",
    " 1. Find the Python standard library that deals with the file format use by tldraw.\n",
    "\n",
    " 2. Use it to load the tldraw document as a tree-like structure (⚠️ not as a string!).\n",
    "\n",
    " 3. Name this structure `hello`.\n",
    "\n",
    "```"
   ]
  },
  {
   "cell_type": "code",
   "execution_count": 2,
   "id": "ca731ad0-4fc9-444b-bf1a-c7c254a51ceb",
   "metadata": {},
   "outputs": [],
   "source": [
    "#Question 1\n",
    "import json"
   ]
  },
  {
   "cell_type": "code",
   "execution_count": 3,
   "id": "e5a0a0eb-c656-4fd0-88ab-fe5fb5752748",
   "metadata": {
    "scrolled": true
   },
   "outputs": [
    {
     "name": "stdout",
     "output_type": "stream",
     "text": [
      "{'tldrawFileFormatVersion': 1, 'schema': {'schemaVersion': 1, 'storeVersion': 4, 'recordVersions': {'asset': {'version': 1, 'subTypeKey': 'type', 'subTypeVersions': {'image': 3, 'video': 3, 'bookmark': 1}}, 'camera': {'version': 1}, 'document': {'version': 2}, 'instance': {'version': 24}, 'instance_page_state': {'version': 5}, 'page': {'version': 1}, 'shape': {'version': 3, 'subTypeKey': 'type', 'subTypeVersions': {'group': 0, 'text': 1, 'bookmark': 2, 'draw': 1, 'geo': 8, 'note': 5, 'line': 1, 'frame': 0, 'arrow': 3, 'highlight': 0, 'embed': 4, 'image': 3, 'video': 2}}, 'instance_presence': {'version': 5}, 'pointer': {'version': 1}}}, 'records': [{'gridSize': 10, 'name': '', 'meta': {}, 'id': 'document:document', 'typeName': 'document'}, {'id': 'pointer:pointer', 'typeName': 'pointer', 'x': 60.74409484863281, 'y': 45.314483642578125, 'lastActivityTimestamp': 1707310199255, 'meta': {}}, {'meta': {}, 'id': 'page:page', 'name': 'Page 1', 'index': 'a1', 'typeName': 'page'}, {'x': 0, 'y': 0, 'z': 1, 'meta': {}, 'id': 'camera:page:page', 'typeName': 'camera'}, {'editingShapeId': None, 'croppingShapeId': None, 'selectedShapeIds': [], 'hoveredShapeId': None, 'erasingShapeIds': [], 'hintingShapeIds': [], 'focusedGroupId': None, 'meta': {}, 'id': 'instance_page_state:page:page', 'pageId': 'page:page', 'typeName': 'instance_page_state'}, {'followingUserId': None, 'opacityForNextShape': 1, 'stylesForNextShape': {}, 'brush': None, 'scribbles': [], 'cursor': {'type': 'default', 'rotation': 0}, 'isFocusMode': False, 'exportBackground': True, 'isDebugMode': False, 'isToolLocked': False, 'screenBounds': {'x': 0, 'y': 0, 'w': 1306, 'h': 721}, 'insets': [False, False, False, False], 'zoomBrush': None, 'isGridMode': False, 'isPenMode': False, 'chatMessage': '', 'isChatting': False, 'highlightedUserIds': [], 'canMoveCamera': True, 'isFocused': True, 'devicePixelRatio': 2, 'isCoarsePointer': False, 'isHoveringCanvas': False, 'openMenus': ['main menu', 'main menu menu file'], 'isChangingStyle': False, 'isReadonly': False, 'meta': {}, 'duplicateProps': None, 'id': 'instance:instance', 'currentPageId': 'page:page', 'typeName': 'instance'}, {'x': 21.489408181206386, 'y': 349.688232421875, 'rotation': 0, 'isLocked': False, 'opacity': 1, 'meta': {}, 'id': 'shape:yyayaLlh6qsgzoE8bDaer', 'type': 'text', 'props': {'color': 'black', 'size': 'm', 'w': 640.257568359375, 'text': 'hello tldraw !', 'font': 'draw', 'align': 'middle', 'autoSize': False, 'scale': 1.921837322160598}, 'parentId': 'page:page', 'index': 'a2', 'typeName': 'shape'}]}\n"
     ]
    }
   ],
   "source": [
    "hello = json.loads(tldraw_content)\n",
    "print(hello)"
   ]
  },
  {
   "cell_type": "markdown",
   "id": "a6ce392d-b8fa-4df2-a5e1-e5c9b81dffc8",
   "metadata": {},
   "source": [
    "# Records & #"
   ]
  },
  {
   "cell_type": "markdown",
   "id": "c30a7788-e59e-42ab-a5da-c43aa1bb0872",
   "metadata": {},
   "source": [
    "```{exercise} Structure\n",
    ":label:\n",
    "\n",
    " 1. Can you locate a list of \"records\" inside `doc`? Name that list `records`.\n",
    "\n",
    " 2. Records all have a type name. Can you list all of them?\n",
    "\n",
    " 3. There should be a single shape among your records. What's it's `type`?\n",
    "\n",
    " 4. Name `hello_text` this record and display it in the notebook\n",
    "\n",
    "```"
   ]
  },
  {
   "cell_type": "code",
   "execution_count": 4,
   "id": "933af575-2e2b-4fa1-a153-20728dfd3885",
   "metadata": {
    "scrolled": true
   },
   "outputs": [
    {
     "name": "stdout",
     "output_type": "stream",
     "text": [
      "[{'gridSize': 10, 'name': '', 'meta': {}, 'id': 'document:document', 'typeName': 'document'}, {'id': 'pointer:pointer', 'typeName': 'pointer', 'x': 60.74409484863281, 'y': 45.314483642578125, 'lastActivityTimestamp': 1707310199255, 'meta': {}}, {'meta': {}, 'id': 'page:page', 'name': 'Page 1', 'index': 'a1', 'typeName': 'page'}, {'x': 0, 'y': 0, 'z': 1, 'meta': {}, 'id': 'camera:page:page', 'typeName': 'camera'}, {'editingShapeId': None, 'croppingShapeId': None, 'selectedShapeIds': [], 'hoveredShapeId': None, 'erasingShapeIds': [], 'hintingShapeIds': [], 'focusedGroupId': None, 'meta': {}, 'id': 'instance_page_state:page:page', 'pageId': 'page:page', 'typeName': 'instance_page_state'}, {'followingUserId': None, 'opacityForNextShape': 1, 'stylesForNextShape': {}, 'brush': None, 'scribbles': [], 'cursor': {'type': 'default', 'rotation': 0}, 'isFocusMode': False, 'exportBackground': True, 'isDebugMode': False, 'isToolLocked': False, 'screenBounds': {'x': 0, 'y': 0, 'w': 1306, 'h': 721}, 'insets': [False, False, False, False], 'zoomBrush': None, 'isGridMode': False, 'isPenMode': False, 'chatMessage': '', 'isChatting': False, 'highlightedUserIds': [], 'canMoveCamera': True, 'isFocused': True, 'devicePixelRatio': 2, 'isCoarsePointer': False, 'isHoveringCanvas': False, 'openMenus': ['main menu', 'main menu menu file'], 'isChangingStyle': False, 'isReadonly': False, 'meta': {}, 'duplicateProps': None, 'id': 'instance:instance', 'currentPageId': 'page:page', 'typeName': 'instance'}, {'x': 21.489408181206386, 'y': 349.688232421875, 'rotation': 0, 'isLocked': False, 'opacity': 1, 'meta': {}, 'id': 'shape:yyayaLlh6qsgzoE8bDaer', 'type': 'text', 'props': {'color': 'black', 'size': 'm', 'w': 640.257568359375, 'text': 'hello tldraw !', 'font': 'draw', 'align': 'middle', 'autoSize': False, 'scale': 1.921837322160598}, 'parentId': 'page:page', 'index': 'a2', 'typeName': 'shape'}]\n"
     ]
    }
   ],
   "source": [
    "#Question 1 \n",
    "records = hello.get('records')\n",
    "print(records)"
   ]
  },
  {
   "cell_type": "code",
   "execution_count": 5,
   "id": "7bdd22e6-009f-470c-b3df-bba41b6767e3",
   "metadata": {},
   "outputs": [
    {
     "name": "stdout",
     "output_type": "stream",
     "text": [
      "gridSize\n",
      "name\n",
      "meta\n",
      "id\n",
      "typeName\n",
      "id\n",
      "typeName\n",
      "x\n",
      "y\n",
      "lastActivityTimestamp\n",
      "meta\n",
      "meta\n",
      "id\n",
      "name\n",
      "index\n",
      "typeName\n",
      "x\n",
      "y\n",
      "z\n",
      "meta\n",
      "id\n",
      "typeName\n",
      "editingShapeId\n",
      "croppingShapeId\n",
      "selectedShapeIds\n",
      "hoveredShapeId\n",
      "erasingShapeIds\n",
      "hintingShapeIds\n",
      "focusedGroupId\n",
      "meta\n",
      "id\n",
      "pageId\n",
      "typeName\n",
      "followingUserId\n",
      "opacityForNextShape\n",
      "stylesForNextShape\n",
      "brush\n",
      "scribbles\n",
      "cursor\n",
      "isFocusMode\n",
      "exportBackground\n",
      "isDebugMode\n",
      "isToolLocked\n",
      "screenBounds\n",
      "insets\n",
      "zoomBrush\n",
      "isGridMode\n",
      "isPenMode\n",
      "chatMessage\n",
      "isChatting\n",
      "highlightedUserIds\n",
      "canMoveCamera\n",
      "isFocused\n",
      "devicePixelRatio\n",
      "isCoarsePointer\n",
      "isHoveringCanvas\n",
      "openMenus\n",
      "isChangingStyle\n",
      "isReadonly\n",
      "meta\n",
      "duplicateProps\n",
      "id\n",
      "currentPageId\n",
      "typeName\n",
      "x\n",
      "y\n",
      "rotation\n",
      "isLocked\n",
      "opacity\n",
      "meta\n",
      "id\n",
      "type\n",
      "props\n",
      "parentId\n",
      "index\n",
      "typeName\n"
     ]
    }
   ],
   "source": [
    "#Question 2 \n",
    "for i in records :\n",
    "    for key in i :\n",
    "        print(key)"
   ]
  },
  {
   "cell_type": "code",
   "execution_count": 6,
   "id": "b73047c5-a5e2-48d2-b3a9-087e5392f1ca",
   "metadata": {},
   "outputs": [
    {
     "ename": "TypeError",
     "evalue": "list indices must be integers or slices, not dict",
     "output_type": "error",
     "traceback": [
      "\u001b[0;31m---------------------------------------------------------------------------\u001b[0m",
      "\u001b[0;31mTypeError\u001b[0m                                 Traceback (most recent call last)",
      "Cell \u001b[0;32mIn[6], line 2\u001b[0m\n\u001b[1;32m      1\u001b[0m \u001b[38;5;66;03m#Question 3\u001b[39;00m\n\u001b[0;32m----> 2\u001b[0m hello_text\u001b[38;5;241m=\u001b[39m\u001b[43mrecords\u001b[49m\u001b[43m[\u001b[49m\u001b[43mi\u001b[49m\u001b[43m]\u001b[49m\n",
      "\u001b[0;31mTypeError\u001b[0m: list indices must be integers or slices, not dict"
     ]
    }
   ],
   "source": [
    "#Question 3\n",
    "hello_text=records[i]"
   ]
  },
  {
   "cell_type": "markdown",
   "id": "88a29de9-0fb7-4173-8f5e-29377e5e2147",
   "metadata": {},
   "source": [
    "# Edit the Document"
   ]
  },
  {
   "cell_type": "markdown",
   "id": "0e3880a5-049b-4d0a-a4aa-2678eff6406c",
   "metadata": {},
   "source": [
    "```{exercise} Text Content\n",
    "\n",
    "  1. Locate where in the `hello_text` record the text content is located.\n",
    "  \n",
    "  2. Replace \"Hello tldraw!\" with \"Hello Python!\"\n",
    "\n",
    "  3. Save the corresponding document in the directory `docs` as a `hello-python.tldr` file.\n",
    "\n",
    "  4. Load it in the tldraw editor and check that you end up with something similar to the picture below.\n",
    "\n",
    "```"
   ]
  },
  {
   "cell_type": "markdown",
   "id": "1f95f445-0b47-4cea-a53b-b8d0a8bed59f",
   "metadata": {},
   "source": [
    "![](images/hello-python.png)"
   ]
  }
 ],
 "metadata": {
  "kernelspec": {
   "display_name": "Python 3 (ipykernel)",
   "language": "python",
   "name": "python3"
  },
  "language_info": {
   "codemirror_mode": {
    "name": "ipython",
    "version": 3
   },
   "file_extension": ".py",
   "mimetype": "text/x-python",
   "name": "python",
   "nbconvert_exporter": "python",
   "pygments_lexer": "ipython3",
   "version": "3.12.0"
  }
 },
 "nbformat": 4,
 "nbformat_minor": 5
}
